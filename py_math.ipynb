{
 "cells": [
  {
   "cell_type": "code",
   "execution_count": 9,
   "metadata": {},
   "outputs": [
    {
     "name": "stdout",
     "output_type": "stream",
     "text": [
      "3.141592653589793\n"
     ]
    }
   ],
   "source": [
    "# Pi (π) is the ratio of a circle’s circumference (c) to its diameter (d):\n",
    "# π = c/d\n",
    "\n",
    "import math\n",
    "m = math.pi\n",
    "print(m)"
   ]
  },
  {
   "cell_type": "code",
   "execution_count": 10,
   "metadata": {},
   "outputs": [
    {
     "data": {
      "text/plain": [
       "'Circumference of a Circle = 2 * 3.142 * 3 = 18.84955592153876'"
      ]
     },
     "execution_count": 10,
     "metadata": {},
     "output_type": "execute_result"
    }
   ],
   "source": [
    "# Calculate the circumference of a circle using 2πr, \n",
    "# where r is the radius of the circle:\n",
    "r = 3\n",
    "c = 2 * math.pi * r\n",
    "# print(c)\n",
    "f\"Circumference of a Circle = 2 * {math.pi:.4} * {r} = {c:.4}\"\n",
    "f\"Circumference of a Circle = 2 * {math.pi:.4} * {r} = {c:}\""
   ]
  },
  {
   "cell_type": "code",
   "execution_count": 11,
   "metadata": {},
   "outputs": [
    {
     "data": {
      "text/plain": [
       "'Area of a Circle = 3.142 * 5 * 5 = 78.54'"
      ]
     },
     "execution_count": 11,
     "metadata": {},
     "output_type": "execute_result"
    }
   ],
   "source": [
    "# Calculate the area of a circle using the formula πr² as follows:\n",
    "\n",
    "r = 5\n",
    "area = math.pi * r * r\n",
    "f\"Area of a Circle = {math.pi:.4} * {r} * {r} = {area:.4}\""
   ]
  },
  {
   "cell_type": "code",
   "execution_count": 12,
   "metadata": {},
   "outputs": [
    {
     "name": "stdout",
     "output_type": "stream",
     "text": [
      "6.283185307179586\n"
     ]
    }
   ],
   "source": [
    "#  Tau (τ) is the ratio of a circle’s circumference to its radius. \n",
    "#  This constant is equal to 2π, or roughly 6.28.\n",
    "\n",
    "t = math.tau\n",
    "print(t)"
   ]
  },
  {
   "cell_type": "code",
   "execution_count": 13,
   "metadata": {},
   "outputs": [
    {
     "data": {
      "text/plain": [
       "'Circumference of a Circle = 6.283 * 3 = 18.85'"
      ]
     },
     "execution_count": 13,
     "metadata": {},
     "output_type": "execute_result"
    }
   ],
   "source": [
    "# use tau to calculate the circumference of a circle with τr, \n",
    "# where r is the radius, as follows:\n",
    "\n",
    "r = 3\n",
    "circumference = math.tau * r\n",
    "f\"Circumference of a Circle = {math.tau:.4} * {r} = {circumference:.4}\""
   ]
  },
  {
   "cell_type": "code",
   "execution_count": 14,
   "metadata": {},
   "outputs": [
    {
     "name": "stdout",
     "output_type": "stream",
     "text": [
      "2.718281828459045\n"
     ]
    }
   ],
   "source": [
    "# Euler’s number (e) is a constant that is the base of the natural logarithm, \n",
    "# a mathematical function that is commonly used to calculate rates of growth or decay.\n",
    "\n",
    "e = math.e\n",
    "print(e)"
   ]
  },
  {
   "cell_type": "code",
   "execution_count": 20,
   "metadata": {},
   "outputs": [
    {
     "data": {
      "text/plain": [
       "5040"
      ]
     },
     "execution_count": 20,
     "metadata": {},
     "output_type": "execute_result"
    }
   ],
   "source": [
    "# Find Factorials With Python factorial()\n",
    "\n",
    "# A factorial implementation using a for loop. This is a relatively straightforward approach:\n",
    "\n",
    "def fact_loop(num):\n",
    "    if num < 0:\n",
    "        return 0\n",
    "    if num == 0:\n",
    "        return 1\n",
    "    \n",
    "    factorial = 1\n",
    "    for i in range(1, num + 1):\n",
    "        factorial = factorial * i\n",
    "    return factorial\n",
    "\n",
    "fact_loop(7)"
   ]
  },
  {
   "cell_type": "code",
   "execution_count": 21,
   "metadata": {},
   "outputs": [
    {
     "name": "stdout",
     "output_type": "stream",
     "text": [
      "5040\n"
     ]
    }
   ],
   "source": [
    "# find the factorial of a number using math.factorial():\n",
    "f = math.factorial(7)\n",
    "print(f)"
   ]
  },
  {
   "cell_type": "code",
   "execution_count": 22,
   "metadata": {},
   "outputs": [
    {
     "name": "stdout",
     "output_type": "stream",
     "text": [
      "5\n",
      "-11\n"
     ]
    }
   ],
   "source": [
    "# Find the Ceiling Value With ceil()\n",
    "# math.ceil() will return the smallest integer value\n",
    "# that is greater than or equal to the given number.\n",
    "print(math.ceil(4.23))\n",
    "print(math.ceil(-11.453))"
   ]
  },
  {
   "cell_type": "code",
   "execution_count": 23,
   "metadata": {},
   "outputs": [
    {
     "name": "stdout",
     "output_type": "stream",
     "text": [
      "5\n",
      "-7\n"
     ]
    }
   ],
   "source": [
    "# Find the Floor Value With floor()\n",
    "\n",
    "# floor() will return the closest integer value \n",
    "# that is less than or equal to the given number. \n",
    "# This function behaves opposite to ceil(). \n",
    "# For example, an input of 8.72 will return 8, \n",
    "# and an input of -12.34 will return -13. floor() can take \n",
    "# either positive or negative numbers as input and will return an integer value.\n",
    "print(math.floor(5.532))\n",
    "print(math.floor(-6.432))"
   ]
  },
  {
   "cell_type": "code",
   "execution_count": 24,
   "metadata": {},
   "outputs": [
    {
     "name": "stdout",
     "output_type": "stream",
     "text": [
      "12\n",
      "-43\n"
     ]
    }
   ],
   "source": [
    "# Truncate Numbers With trunc()\n",
    "print(math.trunc(12.32))\n",
    "print(math.trunc(-43.24))"
   ]
  },
  {
   "cell_type": "code",
   "execution_count": 25,
   "metadata": {},
   "outputs": [
    {
     "data": {
      "text/plain": [
       "True"
      ]
     },
     "execution_count": 25,
     "metadata": {},
     "output_type": "execute_result"
    }
   ],
   "source": [
    "# When dealing with positive numbers, trunc() behaves the same as floor():\n",
    "math.trunc(12.32) == math.floor(12.32)"
   ]
  },
  {
   "cell_type": "code",
   "execution_count": 26,
   "metadata": {},
   "outputs": [
    {
     "data": {
      "text/plain": [
       "True"
      ]
     },
     "execution_count": 26,
     "metadata": {},
     "output_type": "execute_result"
    }
   ],
   "source": [
    "# When dealing with negative numbers, trunc() behaves the same as ceil():\n",
    "math.trunc(-43.24) == math.ceil(-43.24)"
   ]
  },
  {
   "cell_type": "code",
   "execution_count": null,
   "metadata": {},
   "outputs": [],
   "source": []
  }
 ],
 "metadata": {
  "kernelspec": {
   "display_name": "Python 3",
   "language": "python",
   "name": "python3"
  },
  "language_info": {
   "codemirror_mode": {
    "name": "ipython",
    "version": 3
   },
   "file_extension": ".py",
   "mimetype": "text/x-python",
   "name": "python",
   "nbconvert_exporter": "python",
   "pygments_lexer": "ipython3",
   "version": "3.7.4"
  }
 },
 "nbformat": 4,
 "nbformat_minor": 2
}
